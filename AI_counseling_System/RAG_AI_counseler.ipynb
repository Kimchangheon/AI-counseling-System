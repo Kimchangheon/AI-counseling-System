{
 "nbformat": 4,
 "nbformat_minor": 0,
 "metadata": {
  "colab": {
   "provenance": []
  },
  "kernelspec": {
   "name": "python3",
   "display_name": "Python 3"
  },
  "language_info": {
   "name": "python"
  }
 },
 "cells": [
  {
   "cell_type": "code",
   "execution_count": 1,
   "metadata": {
    "id": "SLnlljbHJrRY"
   },
   "outputs": [],
   "source": [
    "!pip install -q gradio &> /dev/null\n",
    "!pip install langchain &> /dev/null\n",
    "!pip install openai &> /dev/null\n",
    "!pip install google-search-results &> /dev/null\n",
    "!pip install python-dotenv &> /dev/null\n",
    "!pip -q install unstructured chromadb tiktoken  &> /dev/null"
   ]
  },
  {
   "cell_type": "code",
   "source": [
    "from langchain.document_loaders import DirectoryLoader\n",
    "from langchain.text_splitter import RecursiveCharacterTextSplitter\n",
    "from langchain.schema import Document\n",
    "from langchain.embeddings import OpenAIEmbeddings\n",
    "from langchain.vectorstores.chroma import Chroma\n",
    "import os\n",
    "import shutil\n",
    "\n",
    "openai_api_key=os.getenv('OPENAI_API_KEY', '')\n",
    "\n",
    "\n",
    "CHROMA_PATH = \"chroma\"\n",
    "DATA_PATH = \"./data/books\"\n",
    "!mkdir -p ./data/books\n",
    "!gsutil cp gs://2022_chembdrc/my_space/*.md ./data/books/\n",
    "# !rm ./data/books/SocialAnxiety.md\n",
    "# !rm ./data/books/Shynes,SocialAnxietyWorkbook.md\n",
    "\n",
    "def main():\n",
    "    generate_data_store()\n",
    "\n",
    "\n",
    "def generate_data_store():\n",
    "    documents = load_documents()\n",
    "    chunks = split_text(documents)\n",
    "    save_to_chroma(chunks)\n",
    "\n",
    "\n",
    "def load_documents():\n",
    "    loader = DirectoryLoader(DATA_PATH, glob=\"*.md\")\n",
    "    documents = loader.load()\n",
    "    return documents\n",
    "\n",
    "\n",
    "def split_text(documents: list[Document]):\n",
    "    text_splitter = RecursiveCharacterTextSplitter(\n",
    "        chunk_size=300,\n",
    "        chunk_overlap=100,\n",
    "        length_function=len,\n",
    "        add_start_index=True,\n",
    "    )\n",
    "    chunks = text_splitter.split_documents(documents)\n",
    "    print(f\"Split {len(documents)} documents into {len(chunks)} chunks.\")\n",
    "\n",
    "    document = chunks[10]\n",
    "    print(document.page_content)\n",
    "    print(document.metadata)\n",
    "\n",
    "    return chunks\n",
    "\n",
    "\n",
    "def save_to_chroma(chunks: list[Document]):\n",
    "    # Clear out the database first.\n",
    "    if os.path.exists(CHROMA_PATH):\n",
    "        shutil.rmtree(CHROMA_PATH)\n",
    "\n",
    "    # Create a new DB from the documents.\n",
    "    db = Chroma.from_documents(\n",
    "        chunks, OpenAIEmbeddings(openai_api_key=openai_api_key), persist_directory=CHROMA_PATH\n",
    "    )\n",
    "    db.persist()\n",
    "    print(f\"Saved {len(chunks)} chunks to {CHROMA_PATH}.\")\n",
    "\n",
    "\n",
    "if __name__ == \"__main__\":\n",
    "    main()\n"
   ],
   "metadata": {
    "colab": {
     "base_uri": "https://localhost:8080/"
    },
    "id": "bT2vb3QdJu37",
    "outputId": "d843bf7c-4440-48d0-b0cf-bca4e7406361"
   },
   "execution_count": 2,
   "outputs": [
    {
     "output_type": "stream",
     "name": "stdout",
     "text": [
      "Copying gs://2022_chembdrc/my_space/ShynessSocialAnxietyWorkbook.md...\n",
      "Copying gs://2022_chembdrc/my_space/SocialAnxiety.md...\n",
      "/ [2 files][596.2 KiB/596.2 KiB]                                                \n",
      "Operation completed over 2 objects/596.2 KiB.                                    \n"
     ]
    },
    {
     "output_type": "stream",
     "name": "stderr",
     "text": [
      "[nltk_data] Downloading package punkt to /root/nltk_data...\n",
      "[nltk_data]   Unzipping tokenizers/punkt.zip.\n",
      "[nltk_data] Downloading package averaged_perceptron_tagger to\n",
      "[nltk_data]     /root/nltk_data...\n",
      "[nltk_data]   Unzipping taggers/averaged_perceptron_tagger.zip.\n"
     ]
    },
    {
     "output_type": "stream",
     "name": "stdout",
     "text": [
      "Split 2 documents into 3263 chunks.\n",
      "Social anxiety is one of the most common sorts of anxiety and\n",
      "affects both men and women. Most of us feel shy or anxious in\n",
      "social situations at some point. This can be much more serious\n",
      "for some people, however, who find that their relationships,\n",
      "{'source': 'data/books/SocialAnxiety.md', 'start_index': 1748}\n"
     ]
    },
    {
     "output_type": "stream",
     "name": "stderr",
     "text": [
      "/usr/local/lib/python3.10/dist-packages/langchain_core/_api/deprecation.py:117: LangChainDeprecationWarning: The class `langchain_community.embeddings.openai.OpenAIEmbeddings` was deprecated in langchain-community 0.0.9 and will be removed in 0.2.0. An updated version of the class exists in the langchain-openai package and should be used instead. To use it run `pip install -U langchain-openai` and import as `from langchain_openai import OpenAIEmbeddings`.\n",
      "  warn_deprecated(\n"
     ]
    },
    {
     "output_type": "stream",
     "name": "stdout",
     "text": [
      "Saved 3263 chunks to chroma.\n"
     ]
    }
   ]
  },
  {
   "cell_type": "code",
   "source": [
    "import gradio as gr\n",
    "from langchain.chat_models import ChatOpenAI\n",
    "from langchain.schema import HumanMessage, SystemMessage\n",
    "from dotenv import load_dotenv\n",
    "import os\n",
    "import argparse\n",
    "from dataclasses import dataclass\n",
    "from langchain.vectorstores.chroma import Chroma\n",
    "from langchain.embeddings import OpenAIEmbeddings\n",
    "from langchain.chat_models import ChatOpenAI\n",
    "from langchain.prompts import ChatPromptTemplate\n",
    "\n",
    "load_dotenv()\n",
    "\n",
    "# openai_api_key=os.getenv('OPENAI_API_KEY', 'sk-')\n",
    "openai_api_key=os.getenv('OPENAI_API_KEY', 'sk-')\n",
    "# sk-\n",
    "\n",
    "# Initialize ChatOpenAI with desired temperature and your OpenAI API key\n",
    "chat = ChatOpenAI(temperature=0.9, openai_api_key=openai_api_key)\n",
    "\n",
    "\n",
    "def get_rag_advice(query_text) :\n",
    "  CHROMA_PATH = \"chroma\"\n",
    "\n",
    "  PROMPT_TEMPLATE = \"\"\"\n",
    "  Given the context of this literature :\n",
    "\n",
    "  {context}\n",
    "\n",
    "  ---\n",
    "\n",
    "  Considering the specific concern expressed: \"{question}\", what advice would this literature suggest? Please provide practical steps and insights based on the context.\n",
    "  \"\"\"\n",
    "\n",
    "\n",
    "  # Prepare the DB.\n",
    "  embedding_function = OpenAIEmbeddings(openai_api_key=openai_api_key)\n",
    "  db = Chroma(persist_directory=CHROMA_PATH, embedding_function=embedding_function)\n",
    "\n",
    "  # Search the DB.\n",
    "  results = db.similarity_search_with_relevance_scores(query_text, k=3)\n",
    "  if len(results) == 0 or results[0][1] < 0.7:\n",
    "      print(f\"Unable to find matching results.\")\n",
    "\n",
    "  context_text = \"\\n\\n---\\n\\n\".join([doc.page_content for doc, _score in results])\n",
    "  prompt_template = ChatPromptTemplate.from_template(PROMPT_TEMPLATE)\n",
    "  prompt = prompt_template.format(context=context_text, question=query_text)\n",
    "\n",
    "  model = ChatOpenAI(openai_api_key=openai_api_key)\n",
    "  response_text = model.predict(prompt)\n",
    "\n",
    "  sources = [doc.metadata.get(\"source\", None) for doc, _score in results]\n",
    "  formatted_response = f\"{response_text}\\nSources: {sources}\"\n",
    "  return formatted_response\n",
    "\n",
    "\n",
    "\n",
    "# Define the function to assess social anxiety levels and give advice\n",
    "def social_anxiety_assessment(q1, q2, q3, q4, q5, q6, q7, q8, q9, q10):\n",
    "    # Convert question responses to a list\n",
    "    responses = [q1, q2, q3, q4, q5, q6, q7, q8, q9, q10]\n",
    "    score = sum(responses)\n",
    "\n",
    "    questions = [\n",
    "    \"I am afraid of people in authority.\",\n",
    "    \"I am bothered by blushing in front of people.\",\n",
    "    \"Parties and social events scare me.\",\n",
    "    \"I avoid talking to people I don’t know.\",\n",
    "    \"Being criticized scares me a lot.\",\n",
    "    \"I avoid doing things or speaking to people for fear of embarrassment.\",\n",
    "    \"Sweating in front of people causes me distress.\",\n",
    "    \"I avoid going to parties.\",\n",
    "    \"I avoid activities in which I am the center of attention.\",\n",
    "    \"Talking to strangers scares me.\"\n",
    "    ]\n",
    "\n",
    "    # Filter and create a list of checked questions\n",
    "    checked_questions = [questions[i] for i, response in enumerate(responses) if response]\n",
    "    checked_questions_context = \", \".join(checked_questions)\n",
    "\n",
    "    # Define result categories\n",
    "    if score <= 3:\n",
    "        category = \"Normal\"\n",
    "    elif 4 <= score <= 7:\n",
    "        category = \"High\"\n",
    "    else:\n",
    "        category = \"Very high\"\n",
    "\n",
    "    # Update context to include checked questions\n",
    "    context = (\n",
    "        \"The checked questions are \"\n",
    "        + checked_questions_context +\n",
    "        \". Depending on the score, the categories are 'Normal', 'High', and 'Very High'.\"\n",
    "    )\n",
    "\n",
    "    # Using Langchain's ChatOpenAI with SystemMessage for context\n",
    "    responses = chat([\n",
    "        SystemMessage(content=context),\n",
    "        HumanMessage(content=f\"Given the checked questions and a score of {score}, which falls into the '{category}' category, Please provide advice for every checkecd questions. based on the latest psychiatric research findings on social anxiety.\" )\n",
    "    ])\n",
    "\n",
    "    # Extracting the AI's advice from the response\n",
    "    advice = responses.content  # Assuming the response is in the first element\n",
    "    advice += \"\\n\\n======================================================================================================\\n\\n Advice from References : \" + get_rag_advice(checked_questions_context)\n",
    "\n",
    "    return f\"Your anxiety level is: {category}\\n\\nAdvice: {advice}\\n\"\n",
    "\n",
    "# List of questions\n",
    "questions = [\n",
    "    \"I am afraid of people in authority.\",\n",
    "    \"I am bothered by blushing in front of people.\",\n",
    "    \"Parties and social events scare me.\",\n",
    "    \"I avoid talking to people I don’t know.\",\n",
    "    \"Being criticized scares me a lot.\",\n",
    "    \"I avoid doing things or speaking to people for fear of embarrassment.\",\n",
    "    \"Sweating in front of people causes me distress.\",\n",
    "    \"I avoid going to parties.\",\n",
    "    \"I avoid activities in which I am the center of attention.\",\n",
    "    \"Talking to strangers scares me.\"\n",
    "]\n",
    "\n",
    "# Your existing Gradio interface code here\n",
    "iface = gr.Interface(\n",
    "    fn=social_anxiety_assessment,\n",
    "    inputs=[gr.Checkbox(label=q) for q in questions],  # Removed value=False, as it's default\n",
    "    outputs=\"text\",\n",
    "    title=\"Social Anxiety Assessment\",\n",
    "    description=\"This assessment is based on common symptoms of social anxiety. Select 'True' if the statement applies to you, otherwise leave it unchecked.\"\n",
    ")\n",
    "\n",
    "iface.launch()"
   ],
   "metadata": {
    "colab": {
     "base_uri": "https://localhost:8080/",
     "height": 626
    },
    "id": "eQP0NG1dJxVF",
    "outputId": "9b973ac3-23dd-4ff5-fefa-42faeeff890f"
   },
   "execution_count": 4,
   "outputs": [
    {
     "output_type": "stream",
     "name": "stdout",
     "text": [
      "Setting queue=True in a Colab notebook requires sharing enabled. Setting `share=True` (you can turn this off by setting `share=False` in `launch()` explicitly).\n",
      "\n",
      "Colab notebook detected. To show errors in colab notebook, set debug=True in launch()\n",
      "Running on public URL: https://66838363e967e81ec3.gradio.live\n",
      "\n",
      "This share link expires in 72 hours. For free permanent hosting and GPU upgrades, run `gradio deploy` from Terminal to deploy to Spaces (https://huggingface.co/spaces)\n"
     ]
    },
    {
     "output_type": "display_data",
     "data": {
      "text/plain": [
       "<IPython.core.display.HTML object>"
      ],
      "text/html": [
       "<div><iframe src=\"https://66838363e967e81ec3.gradio.live\" width=\"100%\" height=\"500\" allow=\"autoplay; camera; microphone; clipboard-read; clipboard-write;\" frameborder=\"0\" allowfullscreen></iframe></div>"
      ]
     },
     "metadata": {}
    },
    {
     "output_type": "execute_result",
     "data": {
      "text/plain": []
     },
     "metadata": {},
     "execution_count": 4
    }
   ]
  },
  {
   "cell_type": "code",
   "source": [],
   "metadata": {
    "id": "2f9Sv-zCKTxu"
   },
   "execution_count": null,
   "outputs": []
  }
 ]
}
